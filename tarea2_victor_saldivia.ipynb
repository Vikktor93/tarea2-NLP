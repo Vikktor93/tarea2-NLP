{
 "cells": [
  {
   "cell_type": "markdown",
   "id": "ad274bd6",
   "metadata": {},
   "source": [
    "<div>\n",
    "<img src=\"https://i.ibb.co/v3CvVz9/udd-short.png\" width=\"150\"/>\n",
    "    <br>\n",
    "    <strong>Universidad del Desarrollo</strong><br>\n",
    "    <em>Magíster en Data Science</em><br>\n",
    "    <em>Profesora: Maria Paz Raveau</em><br>\n",
    "    <em>Asignatura: Procesamiento de Lenguaje Natural</em><br>\n",
    "\n",
    "</div>\n",
    "\n",
    "# **Tarea 2**\n",
    "\n",
    "*Fecha de Entrega: Domingo 03, Agosto 2025.*\n",
    "\n",
    "**Nombre Estudiante**: Victor Saldivia Vera"
   ]
  },
  {
   "cell_type": "markdown",
   "id": "56c53b1b",
   "metadata": {},
   "source": [
    "### **1. Intrucciones y Enunciado**\n",
    "\n",
    "**Comparando topic modeling y clustering**\n",
    "\n",
    "1. Los modelos LDA que ejecutamos en clases usaron una matriz DTM de tokens, esto\n",
    "es, palabras solas. Es posible que la interpretación de los tópicos mejore al incorporar bigramas. Lo\n",
    "primero que harás entonces es ejecutar un modelo LDA incorporando bigramas. Puedes ayudarte\n",
    "de este link https://radimrehurek.com/gensim_3.8.3/auto_examples/tutorials/run_lda.html. \n",
    "(aunque no tienes necesariamente que hacerlo así). Entonces: \n",
    "    1. Usaremos un subset de la base de datos “El Chile que Queremos” El subset está disponible\n",
    "en Canvas.\n",
    "    2. Añadir bigramas al corpus.\n",
    "    3. Ejecutar diagnóstico de tópicos y escoger un número de tópicos para el modelo. Justificar.\n",
    "    4. Ejecutar LDA con el número de tópicos escogidos y etiquetar los tópicos, justificando en no\n",
    "más de tres líneas, la etiqueta propuesta.\n",
    "2. Los modelos LDA a menudo se usan para hacer clustering. A diferencia de otros\n",
    "métodos de machine learning, LDA es un método pensado para trabajar con textos. Pero uno\n",
    "perfectamente podría hacer clustering con otras técnicas (como Kmeans) a partir de la misma matriz\n",
    "DTM que alimenta un modelo LDA. Se le pide, entonces, que pruebe con Kmeans sobre la matriz\n",
    "DTM y compare los resultados con LDA. ¿Es el número óptimo de cluster el mismo que el número\n",
    "óptimo de tópicos? ¿Qué partición hace más sentido?\n"
   ]
  },
  {
   "cell_type": "markdown",
   "id": "699b1445",
   "metadata": {},
   "source": [
    "### **2. Descripción de la Data**\n",
    "\n",
    "Carga y primeras exploraciones del DataFrame original.  \n",
    "- Columnas disponibles: 1\n",
    "- Tamaño del dataset: 10276 registros  \n",
    "- Conteo de nulos en las columnas de texto: 0\n",
    "\n",
    "\n",
    "**Información Adicional:** Para ver en detalle la implementación completa de la tarea visitar el repositorio en Github.\n",
    "\n",
    "\n",
    "**Repositorio GitHub de la Tarea**\n",
    "- Tarea 2: https://github.com/Vikktor93/tarea2-NLP.git"
   ]
  },
  {
   "cell_type": "markdown",
   "id": "44ce1f89",
   "metadata": {},
   "source": [
    "### **3. Setup e Imports**\n"
   ]
  },
  {
   "cell_type": "markdown",
   "id": "4dc9a65a",
   "metadata": {},
   "source": [
    "Importación de librerías necesarias:\n",
    "- **pandas**: carga, limpieza y manipulación de DataFrame\n",
    "- **numpy**: operaciones numéricas y arreglos\n",
    "- **re**: expresiones regulares para normalización y limpieza de texto \n",
    "- **gensim**:  \n",
    "  - `simple_preprocess`, `Phrases`, `Phraser` para tokenización y construcción de bigramas  \n",
    "  - `corpora.Dictionary`, `LdaModel`, `CoherenceModel` para modelado LDA y diagnóstico de coherencia  \n",
    "- **scikit-learn**:  \n",
    "  - `CountVectorizer` para generar la matriz DTM (unigramas + bigramas) \n",
    "  - `KMeans` y `silhouette_score` para clustering y evaluación de particiones  \n",
    "- **matplotlib**: creación de gráficos  \n"
   ]
  },
  {
   "cell_type": "code",
   "execution_count": 63,
   "id": "97c0f186",
   "metadata": {},
   "outputs": [],
   "source": [
    "import os\n",
    "import pandas as pd\n",
    "import numpy as np\n",
    "import re\n",
    "from pprint import pprint\n",
    "\n",
    "import gensim\n",
    "from gensim.utils import simple_preprocess\n",
    "from gensim.models.phrases import Phrases, Phraser\n",
    "from gensim import corpora, models\n",
    "from gensim.models.coherencemodel import CoherenceModel\n",
    "\n",
    "from sklearn.feature_extraction.text import CountVectorizer\n",
    "from sklearn.cluster import KMeans\n",
    "from sklearn.metrics import silhouette_score\n",
    "\n",
    "import matplotlib.pyplot as plt"
   ]
  },
  {
   "cell_type": "markdown",
   "id": "be1aaeb4",
   "metadata": {},
   "source": [
    "*Nota: Se estableció `KMP_DUPLICATE_LIB_OK=TRUE` para evitar conflicto de múltiples runtimes OpenMP en Windows. Es un workaround temporal *(solución temporal)*.*"
   ]
  },
  {
   "cell_type": "code",
   "execution_count": 64,
   "id": "258dbab3",
   "metadata": {},
   "outputs": [],
   "source": [
    "os.environ[\"KMP_DUPLICATE_LIB_OK\"] = \"TRUE\""
   ]
  },
  {
   "cell_type": "markdown",
   "id": "bd139be1",
   "metadata": {},
   "source": [
    "### **4. Carga y Exploración Inicial**"
   ]
  },
  {
   "cell_type": "code",
   "execution_count": 65,
   "id": "360ff0e9",
   "metadata": {},
   "outputs": [],
   "source": [
    "with open('data/raw/ecqq.csv', encoding='utf-8') as f:\n",
    "    lines = [l.rstrip('\\n') for l in f]\n",
    "\n",
    "# Si la primera línea es el nombre de la columna:\n",
    "col_name, *data = lines\n",
    "\n",
    "df = pd.DataFrame({col_name: data})"
   ]
  },
  {
   "cell_type": "code",
   "execution_count": 67,
   "id": "440b098f",
   "metadata": {},
   "outputs": [
    {
     "name": "stdout",
     "output_type": "stream",
     "text": [
      "Dimensión: (10276, 1)\n",
      "Número de registros: 10276\n"
     ]
    },
    {
     "data": {
      "application/vnd.microsoft.datawrangler.viewer.v0+json": {
       "columns": [
        {
         "name": "index",
         "rawType": "int64",
         "type": "integer"
        },
        {
         "name": "\tP2_1_B",
         "rawType": "object",
         "type": "string"
        }
       ],
       "ref": "ee3cd85b-bdc9-4027-9b69-4754fd61d7f6",
       "rows": [
        [
         "9463",
         "ya que se encuentran amarrados a empresas privadas."
        ],
        [
         "5239",
         "mejorar distribución de recursos.\""
        ],
        [
         "5839",
         "• costo de los medicamentos"
        ],
        [
         "9026",
         "3981\t\"-muchas deficiencias en salud pública."
        ],
        [
         "37",
         "23\t\"- no existe el respeto hacia las personas."
        ]
       ],
       "shape": {
        "columns": 1,
        "rows": 5
       }
      },
      "text/html": [
       "<div>\n",
       "<style scoped>\n",
       "    .dataframe tbody tr th:only-of-type {\n",
       "        vertical-align: middle;\n",
       "    }\n",
       "\n",
       "    .dataframe tbody tr th {\n",
       "        vertical-align: top;\n",
       "    }\n",
       "\n",
       "    .dataframe thead th {\n",
       "        text-align: right;\n",
       "    }\n",
       "</style>\n",
       "<table border=\"1\" class=\"dataframe\">\n",
       "  <thead>\n",
       "    <tr style=\"text-align: right;\">\n",
       "      <th></th>\n",
       "      <th>\\tP2_1_B</th>\n",
       "    </tr>\n",
       "  </thead>\n",
       "  <tbody>\n",
       "    <tr>\n",
       "      <th>9463</th>\n",
       "      <td>ya que se encuentran amarrados a empresas priv...</td>\n",
       "    </tr>\n",
       "    <tr>\n",
       "      <th>5239</th>\n",
       "      <td>mejorar distribución de recursos.\"</td>\n",
       "    </tr>\n",
       "    <tr>\n",
       "      <th>5839</th>\n",
       "      <td>• costo de los medicamentos</td>\n",
       "    </tr>\n",
       "    <tr>\n",
       "      <th>9026</th>\n",
       "      <td>3981\\t\"-muchas deficiencias en salud pública.</td>\n",
       "    </tr>\n",
       "    <tr>\n",
       "      <th>37</th>\n",
       "      <td>23\\t\"- no existe el respeto hacia las personas.</td>\n",
       "    </tr>\n",
       "  </tbody>\n",
       "</table>\n",
       "</div>"
      ],
      "text/plain": [
       "                                               \\tP2_1_B\n",
       "9463  ya que se encuentran amarrados a empresas priv...\n",
       "5239                 mejorar distribución de recursos.\"\n",
       "5839                        • costo de los medicamentos\n",
       "9026      3981\\t\"-muchas deficiencias en salud pública.\n",
       "37      23\\t\"- no existe el respeto hacia las personas."
      ]
     },
     "execution_count": 67,
     "metadata": {},
     "output_type": "execute_result"
    }
   ],
   "source": [
    "print(f\"Dimensión: {df.shape}\")\n",
    "print(\"Número de registros:\", len(df))\n",
    "df.sample(5)"
   ]
  },
  {
   "cell_type": "markdown",
   "id": "05187c1d",
   "metadata": {},
   "source": [
    "### **05. Preprocesamiento de Texto y Bigramas**"
   ]
  },
  {
   "cell_type": "markdown",
   "id": "a6a342d0",
   "metadata": {},
   "source": [
    "#### **5.1 Normalizar y Tokenizar**"
   ]
  },
  {
   "cell_type": "code",
   "execution_count": 69,
   "id": "a2f7639b",
   "metadata": {},
   "outputs": [],
   "source": [
    "def normalize(text):\n",
    "    t = text.lower()                         # convertir a minúsculas  \n",
    "    t = re.sub(r'\\s+', ' ', t)               # reemplazar uno o más espacios/tabs/saltos por un solo espacio\n",
    "    t = re.sub(r\"[^a-záéíóúñ ]\", \" \", t)     # eliminar todo lo que no sea letra (incluye ñ y vocales acentuadas) o espacio\n",
    "    return t.strip()                         # eliminar espacios al inicio y al final\n",
    "\n",
    "# Aplicar normalización\n",
    "df['text_norm'] = df[col_name].apply(normalize)"
   ]
  },
  {
   "cell_type": "markdown",
   "id": "cb3063fd",
   "metadata": {},
   "source": [
    "#### **5.2 Guardar Dataframe Limpio**"
   ]
  },
  {
   "cell_type": "code",
   "execution_count": 70,
   "id": "f2ef98a6",
   "metadata": {},
   "outputs": [
    {
     "name": "stdout",
     "output_type": "stream",
     "text": [
      "DataFrame limpio guardado en: data/processed/ecqq_limpio.csv (filas: 10276)\n",
      "\n"
     ]
    }
   ],
   "source": [
    "os.makedirs('data/processed', exist_ok=True)\n",
    "df_limpio = df[[col_name, 'text_norm']].copy()\n",
    "output_path = 'data/processed/ecqq_limpio.csv'\n",
    "df_limpio.to_csv(output_path, index=False, encoding='utf-8-sig')\n",
    "print(f\"DataFrame limpio guardado en: {output_path} (filas: {len(df_limpio)})\\n\")"
   ]
  },
  {
   "cell_type": "code",
   "execution_count": 72,
   "id": "8c11cbaf",
   "metadata": {},
   "outputs": [
    {
     "data": {
      "application/vnd.microsoft.datawrangler.viewer.v0+json": {
       "columns": [
        {
         "name": "index",
         "rawType": "int64",
         "type": "integer"
        },
        {
         "name": "\tP2_1_B",
         "rawType": "object",
         "type": "string"
        },
        {
         "name": "text_norm",
         "rawType": "object",
         "type": "string"
        }
       ],
       "ref": "92cdc53e-3cff-4c79-97de-dc169d6a3561",
       "rows": [
        [
         "7303",
         "3263\tlos participantes expresan que la justicia en chile, es blanda e ineficiente que urge modificar el sistema de justicia.",
         "los participantes expresan que la justicia en chile  es blanda e ineficiente que urge modificar el sistema de justicia"
        ],
        [
         "435",
         "costo y calidad de salud.",
         "costo y calidad de salud"
        ],
        [
         "6058",
         "subsidios para gama más amplia de remedios de alto costo en farmacias",
         "subsidios para gama más amplia de remedios de alto costo en farmacias"
        ],
        [
         "352",
         "177\t\"toda persona pensionada sin distinción debe partir desde el sueldo mínimo.",
         "toda persona pensionada sin distinción debe partir desde el sueldo mínimo"
        ],
        [
         "4464",
         "2032\tnos devuelvan las confianzas de poder acceder a cualquier lugar sin miedo y atener trabajos dignos",
         "nos devuelvan las confianzas de poder acceder a cualquier lugar sin miedo y atener trabajos dignos"
        ]
       ],
       "shape": {
        "columns": 2,
        "rows": 5
       }
      },
      "text/html": [
       "<div>\n",
       "<style scoped>\n",
       "    .dataframe tbody tr th:only-of-type {\n",
       "        vertical-align: middle;\n",
       "    }\n",
       "\n",
       "    .dataframe tbody tr th {\n",
       "        vertical-align: top;\n",
       "    }\n",
       "\n",
       "    .dataframe thead th {\n",
       "        text-align: right;\n",
       "    }\n",
       "</style>\n",
       "<table border=\"1\" class=\"dataframe\">\n",
       "  <thead>\n",
       "    <tr style=\"text-align: right;\">\n",
       "      <th></th>\n",
       "      <th>\\tP2_1_B</th>\n",
       "      <th>text_norm</th>\n",
       "    </tr>\n",
       "  </thead>\n",
       "  <tbody>\n",
       "    <tr>\n",
       "      <th>7303</th>\n",
       "      <td>3263\\tlos participantes expresan que la justic...</td>\n",
       "      <td>los participantes expresan que la justicia en ...</td>\n",
       "    </tr>\n",
       "    <tr>\n",
       "      <th>435</th>\n",
       "      <td>costo y calidad de salud.</td>\n",
       "      <td>costo y calidad de salud</td>\n",
       "    </tr>\n",
       "    <tr>\n",
       "      <th>6058</th>\n",
       "      <td>subsidios para gama más amplia de remedios de ...</td>\n",
       "      <td>subsidios para gama más amplia de remedios de ...</td>\n",
       "    </tr>\n",
       "    <tr>\n",
       "      <th>352</th>\n",
       "      <td>177\\t\"toda persona pensionada sin distinción d...</td>\n",
       "      <td>toda persona pensionada sin distinción debe pa...</td>\n",
       "    </tr>\n",
       "    <tr>\n",
       "      <th>4464</th>\n",
       "      <td>2032\\tnos devuelvan las confianzas de poder ac...</td>\n",
       "      <td>nos devuelvan las confianzas de poder acceder ...</td>\n",
       "    </tr>\n",
       "  </tbody>\n",
       "</table>\n",
       "</div>"
      ],
      "text/plain": [
       "                                               \\tP2_1_B  \\\n",
       "7303  3263\\tlos participantes expresan que la justic...   \n",
       "435                           costo y calidad de salud.   \n",
       "6058  subsidios para gama más amplia de remedios de ...   \n",
       "352   177\\t\"toda persona pensionada sin distinción d...   \n",
       "4464  2032\\tnos devuelvan las confianzas de poder ac...   \n",
       "\n",
       "                                              text_norm  \n",
       "7303  los participantes expresan que la justicia en ...  \n",
       "435                            costo y calidad de salud  \n",
       "6058  subsidios para gama más amplia de remedios de ...  \n",
       "352   toda persona pensionada sin distinción debe pa...  \n",
       "4464  nos devuelvan las confianzas de poder acceder ...  "
      ]
     },
     "execution_count": 72,
     "metadata": {},
     "output_type": "execute_result"
    }
   ],
   "source": [
    "# Muestra de 5 registros aleatorios del DataFrame limpio\n",
    "df_limpio.sample(5)"
   ]
  },
  {
   "cell_type": "markdown",
   "id": "911a2444",
   "metadata": {},
   "source": [
    "#### **5.3 Tokenización con Gensim**"
   ]
  },
  {
   "cell_type": "code",
   "execution_count": 73,
   "id": "49b8ecd7",
   "metadata": {},
   "outputs": [
    {
     "name": "stdout",
     "output_type": "stream",
     "text": [
      "Ejemplo tokens (sin bigramas): ['se', 'necesitan', 'pensiones', 'dignas', 'los', 'adultos', 'mayores', 'ya', 'que', 'no', 'alcanza', 'el', 'costo', 'de', 'vida'] \n",
      "\n"
     ]
    }
   ],
   "source": [
    "data_tokens = [simple_preprocess(doc, deacc=True) for doc in df['text_norm']]\n",
    "print(\"Ejemplo tokens (sin bigramas):\", data_tokens[0][:15], \"\\n\")"
   ]
  },
  {
   "cell_type": "markdown",
   "id": "0cb6f7bc",
   "metadata": {},
   "source": [
    "#### **5.4 Entrenar modelo de bigramas**"
   ]
  },
  {
   "cell_type": "code",
   "execution_count": 74,
   "id": "b16d7873",
   "metadata": {},
   "outputs": [],
   "source": [
    "bigram = Phrases(data_tokens, min_count=5, threshold=100)  # ajustar según corpus\n",
    "bigram_mod = Phraser(bigram)"
   ]
  },
  {
   "cell_type": "markdown",
   "id": "10f2a3dc",
   "metadata": {},
   "source": [
    "#### **5.5 Aplicar bigramas al corpus tokenizado**"
   ]
  },
  {
   "cell_type": "code",
   "execution_count": 75,
   "id": "bc5291e7",
   "metadata": {},
   "outputs": [
    {
     "name": "stdout",
     "output_type": "stream",
     "text": [
      "Ejemplo tokens con bigramas: ['se', 'necesitan', 'pensiones', 'dignas', 'los', 'adultos_mayores', 'ya', 'que', 'no', 'alcanza', 'el', 'costo', 'de', 'vida', 'tan']\n"
     ]
    }
   ],
   "source": [
    "data_tokens_bi = [bigram_mod[doc] for doc in data_tokens]\n",
    "print(\"Ejemplo tokens con bigramas:\", data_tokens_bi[0][:15])"
   ]
  }
 ],
 "metadata": {
  "kernelspec": {
   "display_name": "pln",
   "language": "python",
   "name": "python3"
  },
  "language_info": {
   "codemirror_mode": {
    "name": "ipython",
    "version": 3
   },
   "file_extension": ".py",
   "mimetype": "text/x-python",
   "name": "python",
   "nbconvert_exporter": "python",
   "pygments_lexer": "ipython3",
   "version": "3.11.13"
  }
 },
 "nbformat": 4,
 "nbformat_minor": 5
}
