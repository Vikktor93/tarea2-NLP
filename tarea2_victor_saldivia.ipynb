{
 "cells": [
  {
   "cell_type": "markdown",
   "id": "ad274bd6",
   "metadata": {},
   "source": [
    "<div>\n",
    "<img src=\"https://i.ibb.co/v3CvVz9/udd-short.png\" width=\"150\"/>\n",
    "    <br>\n",
    "    <strong>Universidad del Desarrollo</strong><br>\n",
    "    <em>Magíster en Data Science</em><br>\n",
    "    <em>Profesora: Maria Paz Raveau</em><br>\n",
    "    <em>Asignatura: Procesamiento de Lenguaje Natural</em><br>\n",
    "\n",
    "</div>\n",
    "\n",
    "# **Tarea 2**\n",
    "\n",
    "*Fecha de Entrega: Domingo 03, Agosto 2025.*\n",
    "\n",
    "**Nombre Estudiante**: Victor Saldivia Vera"
   ]
  },
  {
   "cell_type": "markdown",
   "id": "56c53b1b",
   "metadata": {},
   "source": [
    "### **1. Intrucciones y Enunciado**\n",
    "\n",
    "**Comparando topic modeling y clustering**\n",
    "\n",
    "1. Los modelos LDA que ejecutamos en clases usaron una matriz DTM de tokens, esto\n",
    "es, palabras solas. Es posible que la interpretación de los tópicos mejore al incorporar bigramas. Lo\n",
    "primero que harás entonces es ejecutar un modelo LDA incorporando bigramas. Puedes ayudarte\n",
    "de este link https://radimrehurek.com/gensim_3.8.3/auto_examples/tutorials/run_lda.html. \n",
    "(aunque no tienes necesariamente que hacerlo así). Entonces: \n",
    "    1. Usaremos un subset de la base de datos “El Chile que Queremos” El subset está disponible\n",
    "en Canvas.\n",
    "    2. Añadir bigramas al corpus.\n",
    "    3. Ejecutar diagnóstico de tópicos y escoger un número de tópicos para el modelo. Justificar.\n",
    "    4. Ejecutar LDA con el número de tópicos escogidos y etiquetar los tópicos, justificando en no\n",
    "más de tres líneas, la etiqueta propuesta.\n",
    "2. Los modelos LDA a menudo se usan para hacer clustering. A diferencia de otros\n",
    "métodos de machine learning, LDA es un método pensado para trabajar con textos. Pero uno\n",
    "perfectamente podría hacer clustering con otras técnicas (como Kmeans) a partir de la misma matriz\n",
    "DTM que alimenta un modelo LDA. Se le pide, entonces, que pruebe con Kmeans sobre la matriz\n",
    "DTM y compare los resultados con LDA. ¿Es el número óptimo de cluster el mismo que el número\n",
    "óptimo de tópicos? ¿Qué partición hace más sentido?\n"
   ]
  },
  {
   "cell_type": "markdown",
   "id": "699b1445",
   "metadata": {},
   "source": [
    "### **2. Descripción de la Data**\n",
    "\n",
    "Carga y primeras exploraciones del DataFrame original.  \n",
    "- Columnas disponibles: 1\n",
    "- Tamaño del dataset: 10276 registros  \n",
    "- Conteo de nulos en las columnas de texto: 0\n",
    "\n",
    "\n",
    "**Información Adicional:** Para ver en detalle la implementación completa de la tarea visitar el repositorio en Github.\n",
    "\n",
    "\n",
    "**Repositorio GitHub de la Tarea**\n",
    "- Tarea 2: https://github.com/Vikktor93/tarea2-NLP.git"
   ]
  },
  {
   "cell_type": "markdown",
   "id": "44ce1f89",
   "metadata": {},
   "source": [
    "### **3. Setup e Imports**\n"
   ]
  },
  {
   "cell_type": "markdown",
   "id": "4dc9a65a",
   "metadata": {},
   "source": [
    "Importación de librerías necesarias:\n",
    "- **pandas**: carga, limpieza y manipulación de DataFrame\n",
    "- **numpy**: operaciones numéricas y arreglos\n",
    "- **re**: expresiones regulares para normalización y limpieza de texto \n",
    "- **gensim**:  \n",
    "  - `simple_preprocess`, `Phrases`, `Phraser` para tokenización y construcción de bigramas  \n",
    "  - `corpora.Dictionary`, `LdaModel`, `CoherenceModel` para modelado LDA y diagnóstico de coherencia  \n",
    "- **scikit-learn**:  \n",
    "  - `CountVectorizer` para generar la matriz DTM (unigramas + bigramas) \n",
    "  - `KMeans` y `silhouette_score` para clustering y evaluación de particiones  \n",
    "- **matplotlib**: creación de gráficos  \n"
   ]
  },
  {
   "cell_type": "code",
   "execution_count": 90,
   "id": "97c0f186",
   "metadata": {},
   "outputs": [],
   "source": [
    "import os\n",
    "import pandas as pd\n",
    "import numpy as np\n",
    "import re\n",
    "from pprint import pprint\n",
    "\n",
    "import gensim\n",
    "from gensim.utils import simple_preprocess\n",
    "from gensim.models.phrases import Phrases, Phraser\n",
    "from gensim import corpora, models\n",
    "from gensim.models.coherencemodel import CoherenceModel\n",
    "\n",
    "from nltk.corpus import stopwords\n",
    "\n",
    "from sklearn.feature_extraction.text import CountVectorizer\n",
    "from sklearn.cluster import KMeans\n",
    "from sklearn.metrics import silhouette_score\n",
    "\n",
    "import matplotlib.pyplot as plt"
   ]
  },
  {
   "cell_type": "markdown",
   "id": "be1aaeb4",
   "metadata": {},
   "source": [
    "*Nota: Se estableció `KMP_DUPLICATE_LIB_OK=TRUE` para evitar conflicto de múltiples runtimes OpenMP en Windows. Es un workaround temporal *(solución temporal)*.*"
   ]
  },
  {
   "cell_type": "code",
   "execution_count": 64,
   "id": "258dbab3",
   "metadata": {},
   "outputs": [],
   "source": [
    "os.environ[\"KMP_DUPLICATE_LIB_OK\"] = \"TRUE\""
   ]
  },
  {
   "cell_type": "markdown",
   "id": "bd139be1",
   "metadata": {},
   "source": [
    "### **4. Carga y Exploración Inicial**"
   ]
  },
  {
   "cell_type": "code",
   "execution_count": 65,
   "id": "360ff0e9",
   "metadata": {},
   "outputs": [],
   "source": [
    "with open('data/raw/ecqq.csv', encoding='utf-8') as f:\n",
    "    lines = [l.rstrip('\\n') for l in f]\n",
    "\n",
    "# Si la primera línea es el nombre de la columna:\n",
    "col_name, *data = lines\n",
    "\n",
    "df = pd.DataFrame({col_name: data})"
   ]
  },
  {
   "cell_type": "code",
   "execution_count": 67,
   "id": "440b098f",
   "metadata": {},
   "outputs": [
    {
     "name": "stdout",
     "output_type": "stream",
     "text": [
      "Dimensión: (10276, 1)\n",
      "Número de registros: 10276\n"
     ]
    },
    {
     "data": {
      "application/vnd.microsoft.datawrangler.viewer.v0+json": {
       "columns": [
        {
         "name": "index",
         "rawType": "int64",
         "type": "integer"
        },
        {
         "name": "\tP2_1_B",
         "rawType": "object",
         "type": "string"
        }
       ],
       "ref": "ee3cd85b-bdc9-4027-9b69-4754fd61d7f6",
       "rows": [
        [
         "9463",
         "ya que se encuentran amarrados a empresas privadas."
        ],
        [
         "5239",
         "mejorar distribución de recursos.\""
        ],
        [
         "5839",
         "• costo de los medicamentos"
        ],
        [
         "9026",
         "3981\t\"-muchas deficiencias en salud pública."
        ],
        [
         "37",
         "23\t\"- no existe el respeto hacia las personas."
        ]
       ],
       "shape": {
        "columns": 1,
        "rows": 5
       }
      },
      "text/html": [
       "<div>\n",
       "<style scoped>\n",
       "    .dataframe tbody tr th:only-of-type {\n",
       "        vertical-align: middle;\n",
       "    }\n",
       "\n",
       "    .dataframe tbody tr th {\n",
       "        vertical-align: top;\n",
       "    }\n",
       "\n",
       "    .dataframe thead th {\n",
       "        text-align: right;\n",
       "    }\n",
       "</style>\n",
       "<table border=\"1\" class=\"dataframe\">\n",
       "  <thead>\n",
       "    <tr style=\"text-align: right;\">\n",
       "      <th></th>\n",
       "      <th>\\tP2_1_B</th>\n",
       "    </tr>\n",
       "  </thead>\n",
       "  <tbody>\n",
       "    <tr>\n",
       "      <th>9463</th>\n",
       "      <td>ya que se encuentran amarrados a empresas priv...</td>\n",
       "    </tr>\n",
       "    <tr>\n",
       "      <th>5239</th>\n",
       "      <td>mejorar distribución de recursos.\"</td>\n",
       "    </tr>\n",
       "    <tr>\n",
       "      <th>5839</th>\n",
       "      <td>• costo de los medicamentos</td>\n",
       "    </tr>\n",
       "    <tr>\n",
       "      <th>9026</th>\n",
       "      <td>3981\\t\"-muchas deficiencias en salud pública.</td>\n",
       "    </tr>\n",
       "    <tr>\n",
       "      <th>37</th>\n",
       "      <td>23\\t\"- no existe el respeto hacia las personas.</td>\n",
       "    </tr>\n",
       "  </tbody>\n",
       "</table>\n",
       "</div>"
      ],
      "text/plain": [
       "                                               \\tP2_1_B\n",
       "9463  ya que se encuentran amarrados a empresas priv...\n",
       "5239                 mejorar distribución de recursos.\"\n",
       "5839                        • costo de los medicamentos\n",
       "9026      3981\\t\"-muchas deficiencias en salud pública.\n",
       "37      23\\t\"- no existe el respeto hacia las personas."
      ]
     },
     "execution_count": 67,
     "metadata": {},
     "output_type": "execute_result"
    }
   ],
   "source": [
    "print(f\"Dimensión: {df.shape}\")\n",
    "print(\"Número de registros:\", len(df))\n",
    "df.sample(5)"
   ]
  },
  {
   "cell_type": "markdown",
   "id": "05187c1d",
   "metadata": {},
   "source": [
    "### **5. Preprocesamiento de Texto y Bigramas**"
   ]
  },
  {
   "cell_type": "markdown",
   "id": "a6a342d0",
   "metadata": {},
   "source": [
    "#### **5.1 Normalizar y Tokenizar**"
   ]
  },
  {
   "cell_type": "code",
   "execution_count": 69,
   "id": "a2f7639b",
   "metadata": {},
   "outputs": [],
   "source": [
    "def normalize(text):\n",
    "    t = text.lower()                         # convertir a minúsculas  \n",
    "    t = re.sub(r'\\s+', ' ', t)               # reemplazar uno o más espacios/tabs/saltos por un solo espacio\n",
    "    t = re.sub(r\"[^a-záéíóúñ ]\", \" \", t)     # eliminar todo lo que no sea letra (incluye ñ y vocales acentuadas) o espacio\n",
    "    return t.strip()                         # eliminar espacios al inicio y al final\n",
    "\n",
    "# Aplicar normalización\n",
    "df['text_norm'] = df[col_name].apply(normalize)"
   ]
  },
  {
   "cell_type": "markdown",
   "id": "cb3063fd",
   "metadata": {},
   "source": [
    "#### **5.2 Guardar Dataframe Limpio**"
   ]
  },
  {
   "cell_type": "code",
   "execution_count": 70,
   "id": "f2ef98a6",
   "metadata": {},
   "outputs": [
    {
     "name": "stdout",
     "output_type": "stream",
     "text": [
      "DataFrame limpio guardado en: data/processed/ecqq_limpio.csv (filas: 10276)\n",
      "\n"
     ]
    }
   ],
   "source": [
    "os.makedirs('data/processed', exist_ok=True)\n",
    "df_limpio = df[[col_name, 'text_norm']].copy()\n",
    "output_path = 'data/processed/ecqq_limpio.csv'\n",
    "df_limpio.to_csv(output_path, index=False, encoding='utf-8-sig')\n",
    "print(f\"DataFrame limpio guardado en: {output_path} (filas: {len(df_limpio)})\\n\")"
   ]
  },
  {
   "cell_type": "code",
   "execution_count": 72,
   "id": "8c11cbaf",
   "metadata": {},
   "outputs": [
    {
     "data": {
      "application/vnd.microsoft.datawrangler.viewer.v0+json": {
       "columns": [
        {
         "name": "index",
         "rawType": "int64",
         "type": "integer"
        },
        {
         "name": "\tP2_1_B",
         "rawType": "object",
         "type": "string"
        },
        {
         "name": "text_norm",
         "rawType": "object",
         "type": "string"
        }
       ],
       "ref": "92cdc53e-3cff-4c79-97de-dc169d6a3561",
       "rows": [
        [
         "7303",
         "3263\tlos participantes expresan que la justicia en chile, es blanda e ineficiente que urge modificar el sistema de justicia.",
         "los participantes expresan que la justicia en chile  es blanda e ineficiente que urge modificar el sistema de justicia"
        ],
        [
         "435",
         "costo y calidad de salud.",
         "costo y calidad de salud"
        ],
        [
         "6058",
         "subsidios para gama más amplia de remedios de alto costo en farmacias",
         "subsidios para gama más amplia de remedios de alto costo en farmacias"
        ],
        [
         "352",
         "177\t\"toda persona pensionada sin distinción debe partir desde el sueldo mínimo.",
         "toda persona pensionada sin distinción debe partir desde el sueldo mínimo"
        ],
        [
         "4464",
         "2032\tnos devuelvan las confianzas de poder acceder a cualquier lugar sin miedo y atener trabajos dignos",
         "nos devuelvan las confianzas de poder acceder a cualquier lugar sin miedo y atener trabajos dignos"
        ]
       ],
       "shape": {
        "columns": 2,
        "rows": 5
       }
      },
      "text/html": [
       "<div>\n",
       "<style scoped>\n",
       "    .dataframe tbody tr th:only-of-type {\n",
       "        vertical-align: middle;\n",
       "    }\n",
       "\n",
       "    .dataframe tbody tr th {\n",
       "        vertical-align: top;\n",
       "    }\n",
       "\n",
       "    .dataframe thead th {\n",
       "        text-align: right;\n",
       "    }\n",
       "</style>\n",
       "<table border=\"1\" class=\"dataframe\">\n",
       "  <thead>\n",
       "    <tr style=\"text-align: right;\">\n",
       "      <th></th>\n",
       "      <th>\\tP2_1_B</th>\n",
       "      <th>text_norm</th>\n",
       "    </tr>\n",
       "  </thead>\n",
       "  <tbody>\n",
       "    <tr>\n",
       "      <th>7303</th>\n",
       "      <td>3263\\tlos participantes expresan que la justic...</td>\n",
       "      <td>los participantes expresan que la justicia en ...</td>\n",
       "    </tr>\n",
       "    <tr>\n",
       "      <th>435</th>\n",
       "      <td>costo y calidad de salud.</td>\n",
       "      <td>costo y calidad de salud</td>\n",
       "    </tr>\n",
       "    <tr>\n",
       "      <th>6058</th>\n",
       "      <td>subsidios para gama más amplia de remedios de ...</td>\n",
       "      <td>subsidios para gama más amplia de remedios de ...</td>\n",
       "    </tr>\n",
       "    <tr>\n",
       "      <th>352</th>\n",
       "      <td>177\\t\"toda persona pensionada sin distinción d...</td>\n",
       "      <td>toda persona pensionada sin distinción debe pa...</td>\n",
       "    </tr>\n",
       "    <tr>\n",
       "      <th>4464</th>\n",
       "      <td>2032\\tnos devuelvan las confianzas de poder ac...</td>\n",
       "      <td>nos devuelvan las confianzas de poder acceder ...</td>\n",
       "    </tr>\n",
       "  </tbody>\n",
       "</table>\n",
       "</div>"
      ],
      "text/plain": [
       "                                               \\tP2_1_B  \\\n",
       "7303  3263\\tlos participantes expresan que la justic...   \n",
       "435                           costo y calidad de salud.   \n",
       "6058  subsidios para gama más amplia de remedios de ...   \n",
       "352   177\\t\"toda persona pensionada sin distinción d...   \n",
       "4464  2032\\tnos devuelvan las confianzas de poder ac...   \n",
       "\n",
       "                                              text_norm  \n",
       "7303  los participantes expresan que la justicia en ...  \n",
       "435                            costo y calidad de salud  \n",
       "6058  subsidios para gama más amplia de remedios de ...  \n",
       "352   toda persona pensionada sin distinción debe pa...  \n",
       "4464  nos devuelvan las confianzas de poder acceder ...  "
      ]
     },
     "execution_count": 72,
     "metadata": {},
     "output_type": "execute_result"
    }
   ],
   "source": [
    "# Muestra de 5 registros aleatorios del DataFrame limpio\n",
    "df_limpio.sample(5)"
   ]
  },
  {
   "cell_type": "markdown",
   "id": "911a2444",
   "metadata": {},
   "source": [
    "#### **5.3 Tokenización con Gensim**"
   ]
  },
  {
   "cell_type": "code",
   "execution_count": 101,
   "id": "49b8ecd7",
   "metadata": {},
   "outputs": [
    {
     "name": "stdout",
     "output_type": "stream",
     "text": [
      "Ejemplo tokens (sin bigramas): ['se', 'necesitan', 'pensiones', 'dignas', 'los', 'adultos', 'mayores', 'ya', 'que', 'no', 'alcanza', 'el', 'costo', 'de', 'vida'] \n",
      "\n"
     ]
    }
   ],
   "source": [
    "data_tokens = [simple_preprocess(doc, deacc=True) for doc in df['text_norm']]\n",
    "print(\"Ejemplo tokens (sin bigramas):\", data_tokens[0][:15], \"\\n\")"
   ]
  },
  {
   "cell_type": "markdown",
   "id": "0cb6f7bc",
   "metadata": {},
   "source": [
    "#### **5.4 Entrenar modelo de bigramas**"
   ]
  },
  {
   "cell_type": "code",
   "execution_count": 102,
   "id": "b16d7873",
   "metadata": {},
   "outputs": [],
   "source": [
    "bigram = Phrases(data_tokens, min_count=5, threshold=100)  # ajustar según corpus\n",
    "bigram_mod = Phraser(bigram)"
   ]
  },
  {
   "cell_type": "markdown",
   "id": "10f2a3dc",
   "metadata": {},
   "source": [
    "#### **5.5 Aplicar bigramas al corpus tokenizado**"
   ]
  },
  {
   "cell_type": "code",
   "execution_count": 103,
   "id": "bc5291e7",
   "metadata": {},
   "outputs": [
    {
     "name": "stdout",
     "output_type": "stream",
     "text": [
      "Ejemplo tokens con bigramas: ['se', 'necesitan', 'pensiones', 'dignas', 'los', 'adultos_mayores', 'ya', 'que', 'no', 'alcanza']\n"
     ]
    }
   ],
   "source": [
    "data_tokens_bi = [bigram_mod[doc] for doc in data_tokens]\n",
    "print(\"Ejemplo tokens con bigramas:\", data_tokens_bi[0][:10])"
   ]
  },
  {
   "cell_type": "markdown",
   "id": "3cb3390e",
   "metadata": {},
   "source": [
    "### **6. Stopwords Estándar y Extensión**"
   ]
  },
  {
   "cell_type": "markdown",
   "id": "f572a468",
   "metadata": {},
   "source": [
    "#### **6.1 Stopwords NLTK**"
   ]
  },
  {
   "cell_type": "code",
   "execution_count": 104,
   "id": "7634763e",
   "metadata": {},
   "outputs": [],
   "source": [
    "#spanish_sw = set(stopwords.words('spanish'))"
   ]
  },
  {
   "cell_type": "markdown",
   "id": "87f03f22",
   "metadata": {},
   "source": [
    "#### **6.2 Stopwords frecuentes detectadas**"
   ]
  },
  {
   "cell_type": "code",
   "execution_count": 105,
   "id": "9ba583bc",
   "metadata": {},
   "outputs": [],
   "source": [
    "#extra_sw = {'de','la','que','en','los','las','el','para','no','se','muy'}\n",
    "#spanish_sw |= extra_sw\n",
    "#print(\"Total stopwords usadas:\", len(spanish_sw))"
   ]
  },
  {
   "cell_type": "markdown",
   "id": "3cdd87fd",
   "metadata": {},
   "source": [
    "#### **7. Filtrado de Tokens con Stopwords**"
   ]
  },
  {
   "cell_type": "code",
   "execution_count": 106,
   "id": "1dd36092",
   "metadata": {},
   "outputs": [
    {
     "data": {
      "text/plain": [
       "'data_tokens_bi = [\\n    [tok for tok in doc if tok not in spanish_sw]\\n    for doc in data_tokens_bi\\n]'"
      ]
     },
     "execution_count": 106,
     "metadata": {},
     "output_type": "execute_result"
    }
   ],
   "source": [
    "# Filtrar stopwords antes de crear el diccionario\n",
    "\"\"\"data_tokens_bi = [\n",
    "    [tok for tok in doc if tok not in spanish_sw]\n",
    "    for doc in data_tokens_bi\n",
    "]\"\"\""
   ]
  },
  {
   "cell_type": "markdown",
   "id": "891753ed",
   "metadata": {},
   "source": [
    "### **8. Diccionario y Corpus (DTM)**\n",
    "A continuación se utiliza la librería `gensim` para convertir el conjunto de documentos tokenizados en una representación numérica (Bag of Words)."
   ]
  },
  {
   "cell_type": "markdown",
   "id": "04c6f219",
   "metadata": {},
   "source": [
    "#### **8.1 Diccionario**\n",
    "Se crea un diccionario que asigna un ID único a cada palabra encontrada en `data_tokens_bi`.\n",
    "\n",
    "Además se filtra palabras poco y muy frecuentes:\n",
    "- `no_below=5`: Elimina palabras que aparecen en menos de 5 documentos\n",
    "- `no_above=0.5`: Elimina palabras que aparecen en más del 50% de los documentos\n",
    "- `keep_n=10000`: Conserva solo las 10000 palabras más frecuentes"
   ]
  },
  {
   "cell_type": "code",
   "execution_count": 107,
   "id": "326c970c",
   "metadata": {},
   "outputs": [
    {
     "name": "stdout",
     "output_type": "stream",
     "text": [
      "Tamaño vocabulario: 1702\n"
     ]
    }
   ],
   "source": [
    "# Crear diccionario y corpus\n",
    "dictionary = corpora.Dictionary(data_tokens_bi)\n",
    "dictionary.filter_extremes(no_below=5, no_above=0.5, keep_n=10000) # Filtrar palabras poco frecuentes y muy frecuentes\n",
    "print(\"Tamaño vocabulario:\", len(dictionary))"
   ]
  },
  {
   "cell_type": "markdown",
   "id": "288de0dd",
   "metadata": {},
   "source": [
    "#### **8.2 Creación del Corpus (Bag of Words)**\n",
    "\n",
    "- Se convierte cada documento en un vector de conteo de palabras (Bag of Words)\n",
    "- Cada documento se representa como una lista de tuplas `(id_palabra, frecuencia)`"
   ]
  },
  {
   "cell_type": "code",
   "execution_count": 108,
   "id": "d355521c",
   "metadata": {},
   "outputs": [
    {
     "name": "stdout",
     "output_type": "stream",
     "text": [
      "Muestra de las primeras 10 entradas del vector BOW para el 1° Documento: [(0, 1), (1, 1), (2, 1), (3, 1), (4, 1), (5, 1), (6, 1), (7, 1), (8, 1), (9, 1)]\n"
     ]
    }
   ],
   "source": [
    "corpus = [dictionary.doc2bow(text) for text in data_tokens_bi]\n",
    "print(\"Muestra de las primeras 10 entradas del vector BOW para el 1° Documento:\", corpus[0][:10])"
   ]
  },
  {
   "cell_type": "markdown",
   "id": "e2d3f2c2",
   "metadata": {},
   "source": [
    "### **9. Diagnóstico de Número de Temas (Coherence)**"
   ]
  },
  {
   "cell_type": "code",
   "execution_count": 109,
   "id": "fda05f90",
   "metadata": {},
   "outputs": [
    {
     "name": "stdout",
     "output_type": "stream",
     "text": [
      "k=2 → coherence=0.4941\n",
      "k=3 → coherence=0.4810\n",
      "k=4 → coherence=0.5039\n",
      "k=5 → coherence=0.4966\n",
      "k=6 → coherence=0.4993\n",
      "k=7 → coherence=0.4590\n",
      "k=8 → coherence=0.4717\n",
      "k=9 → coherence=0.4667\n",
      "k=10 → coherence=0.4462\n"
     ]
    },
    {
     "data": {
      "image/png": "[encoded data removed]",
      "text/plain": [
       "<Figure size 800x400 with 1 Axes>"
      ]
     },
     "metadata": {},
     "output_type": "display_data"
    }
   ],
   "source": [
    "coherence_scores = []\n",
    "model_list = []\n",
    "K = range(2, 11)\n",
    "\n",
    "for k in K:\n",
    "    lda = models.LdaModel(\n",
    "        corpus=corpus,\n",
    "        id2word=dictionary,\n",
    "        num_topics=k,\n",
    "        random_state=42,\n",
    "        passes=10,\n",
    "        alpha='auto',\n",
    "        per_word_topics=False\n",
    "    )\n",
    "    cm = CoherenceModel(\n",
    "        model=lda,\n",
    "        texts=data_tokens_bi,\n",
    "        dictionary=dictionary,\n",
    "        coherence='c_v'\n",
    "    )\n",
    "    score = cm.get_coherence()\n",
    "    coherence_scores.append(score)\n",
    "    model_list.append(lda)\n",
    "    print(f\"k={k} → coherence={score:.4f}\")\n",
    "\n",
    "# Grafico\n",
    "plt.figure(figsize=(8,4))\n",
    "plt.plot(K, coherence_scores, marker='o', color='purple')\n",
    "plt.xlabel('Número de temas (k)')\n",
    "plt.ylabel('Coherence (C_V)')\n",
    "plt.title('Diagnóstico: Coherence vs. N° de Temas')\n",
    "plt.show()\n"
   ]
  },
  {
   "cell_type": "markdown",
   "id": "e6e7ebcd",
   "metadata": {},
   "source": [
    "Según el *Análisis de Coherencia para Selección de Número de Temas (k)* realizado, los valores de coherencia para cada número de temas (k) fueron:\n",
    "\n",
    "| k  | Coherencia (C_V) |\n",
    "|----|------------------|\n",
    "| 2  | 0.4941           |\n",
    "| 3  | 0.4810           |\n",
    "| **4**  | **0.5039**       |\n",
    "| 5  | 0.4966           |\n",
    "| 6  | 0.4993           |\n",
    "| 7  | 0.4590           |\n",
    "| 8  | 0.4717           |\n",
    "| 9  | 0.4667           |\n",
    "| 10 | 0.4462           |\n",
    "\n",
    "**Interpretación**\n",
    "\n",
    "1. **Punto óptimo**: \n",
    "   - El valor máximo de coherencia (0.5039) se alcanza con **k=4 temas**\n",
    "   - Este es el punto donde los temas generados tienen mayor coherencia semántica interna\n",
    "\n",
    "2. **Patrón observado**:\n",
    "   - Decrecimiento consistente para k > 4\n",
    "   - Comportamiento relativamente estable entre k=5 y k=6\n",
    "\n",
    "3. **Recomendación**:\n",
    "   - **Lo mejor es seleccionar k=4** como número óptimo de temas\n",
    "   - Los modelos con k>4 muestran:\n",
    "     - Menor coherencia promedio\n",
    "     - Posible sobre-división de temas\n",
    "     - Mayor complejidad sin ganancia interpretativa"
   ]
  },
  {
   "cell_type": "markdown",
   "id": "44c8ea2f",
   "metadata": {},
   "source": [
    "### **10. Entrenaamiento LDA Final y Etiquetado de Temas**"
   ]
  },
  {
   "cell_type": "code",
   "execution_count": 124,
   "id": "5ddc9216",
   "metadata": {},
   "outputs": [
    {
     "name": "stdout",
     "output_type": "stream",
     "text": [
      "Mejor número de temas: 4\n",
      "\n",
      "Tópico 0:\n",
      "de, la, salud, en, atencion, mejorar, las, el, calidad, espera, sistema, para, mas, horas, publica\n",
      "\n",
      "Tópico 1:\n",
      "de, falta, los, especialistas, mas, profesionales, en, medicamentos, educacion, medicos, con, insumos, infraestructura, hospitales, precios\n",
      "\n",
      "Tópico 2:\n",
      "no, para, las, que, los, hay, muy, pensiones, son, todos, es, de, la, personas, mas\n",
      "\n",
      "Tópico 3:\n",
      "que, de, la, el, se, los, en, no, un, para, las, por, una, del, es\n"
     ]
    }
   ],
   "source": [
    "# Selección de modelo\n",
    "best_idx = np.argmax(coherence_scores)\n",
    "k_opt = K[best_idx]\n",
    "lda_model = model_list[best_idx]\n",
    "print(f\"Mejor número de temas: {k_opt}\")\n",
    "\n",
    "# Mostrar tópicos\n",
    "for topic_id, topic in lda_model.show_topics(num_topics=k_opt, num_words=15, formatted=False):\n",
    "    print(f\"\\nTópico {topic_id}:\")\n",
    "    # topic es lista de (palabra, peso)\n",
    "    print(\", \".join([word for word, _ in topic]))"
   ]
  },
  {
   "cell_type": "markdown",
   "id": "aca8d643",
   "metadata": {},
   "source": [
    "### **11. Asignación de Tema Dominante a Cada Documento**"
   ]
  },
  {
   "cell_type": "markdown",
   "id": "11fc8870",
   "metadata": {},
   "source": [
    "#### **11.1 Función para extraer Tópico Predominante**"
   ]
  },
  {
   "cell_type": "code",
   "execution_count": 132,
   "id": "822ee347",
   "metadata": {},
   "outputs": [],
   "source": [
    "def get_dominant_topic(bow):\n",
    "    topics = lda_model.get_document_topics(bow)\n",
    "    return sorted(topics, key=lambda x: -x[1])[0][0]"
   ]
  },
  {
   "cell_type": "markdown",
   "id": "51a31961",
   "metadata": {},
   "source": [
    "#### **11.2 Aplicar al DataFrame**"
   ]
  },
  {
   "cell_type": "code",
   "execution_count": 135,
   "id": "92fa0425",
   "metadata": {},
   "outputs": [],
   "source": [
    "df['lda_topic'] = df['bow'].apply(get_dominant_topic)"
   ]
  },
  {
   "cell_type": "markdown",
   "id": "682eff84",
   "metadata": {},
   "source": [
    "#### **11.3 Cantidad de documentos por Tópico**"
   ]
  },
  {
   "cell_type": "code",
   "execution_count": 137,
   "id": "5f418702",
   "metadata": {},
   "outputs": [
    {
     "name": "stdout",
     "output_type": "stream",
     "text": [
      "Documentos por tópico:\n",
      " lda_topic\n",
      "0    3303\n",
      "1    1387\n",
      "2    1608\n",
      "3    3978\n",
      "Name: count, dtype: int64\n"
     ]
    }
   ],
   "source": [
    "topic_counts = df['lda_topic'].value_counts().sort_index()\n",
    "print(\"Documentos por tópico:\\n\", topic_counts)"
   ]
  },
  {
   "cell_type": "markdown",
   "id": "48a18ad5",
   "metadata": {},
   "source": [
    "#### **11.4 Ejemplos Representativos por Tema**"
   ]
  },
  {
   "cell_type": "code",
   "execution_count": 140,
   "id": "be0278dc",
   "metadata": {},
   "outputs": [
    {
     "name": "stdout",
     "output_type": "stream",
     "text": [
      "\n",
      "================== Ejemplos por Tópico 0 ==================\n",
      "- - valorar el de pensiones\"\n",
      "- 975\tmenos valor de los medicamentos, más médicos especialistas, mejor atención y trato al paciente, atención preferente reglamentada, mejor la atención primaria\n",
      "- 1766\t\"mayor cantidad de insumos, especialistas, equipamiento y geriatrias en e sector publico.\n",
      "\n",
      "================== Ejemplos por Tópico 1 ==================\n",
      "- recursos naturales y distribución.\"\n",
      "- necesidades básicas, difíciles de acceder por alza de precios.\"\n",
      "- precios medicamentos\n",
      "\n",
      "================== Ejemplos por Tópico 2 ==================\n",
      "- gratuidad para adultos mayores \"\n",
      "- hay pocos bacantes. \n",
      "- vivienda digna para todos \"\n",
      "\n",
      "================== Ejemplos por Tópico 3 ==================\n",
      "- vehicular particulares por el miedo de circular en las calles\"\n",
      "- 2654\t\"retomar la democracioa por que no se puede vivir libremente\n",
      "- 816\tpensiones dignas para la gente de la 3ra edad a lo menos igualando al sueldo mínimo país\n"
     ]
    }
   ],
   "source": [
    "for topic_id in range(4):\n",
    "    print(f\"\\n================== Ejemplos por Tópico {topic_id} ==================\")\n",
    "    ejemplos = df[df['lda_topic']==topic_id][col_name].sample(3, random_state=42)\n",
    "    for ej in ejemplos:\n",
    "        print(\"-\", ej)"
   ]
  },
  {
   "cell_type": "markdown",
   "id": "7a856e5c",
   "metadata": {},
   "source": [
    "### **12. Etiquetado de Tópicos y Justificación**\n",
    "\n",
    "A continuación las etiquetas propuestas para cada uno de los 4 temas, con una breve justificación:\n",
    "\n",
    "1. **Tópico 0: “Mejoras en Atención de Salud Pública”**  \n",
    "   Palabras clave como “salud”, “atencion”, “mejorar”, “calidad”, “espera” y “publica” señalan propuestas orientadas a elevar la calidad y reducir los tiempos de espera en el sistema público de salud.\n",
    "\n",
    "2. **Tópico 1: “Escasez de Especialistas e Insumos Médicos”**  \n",
    "   Términos dominantes como “falta”, “especialistas”, “profesionales”, “medicamentos”, “infraestructura” y “hospitales” apuntan a denuncias de déficit de personal y recursos en la atención sanitaria.\n",
    "\n",
    "3. **Tópico 2: “Pensiones y Apoyo a Adultos Mayores”**  \n",
    "   En este caso el término “pensiones” destaca sobre el resto, lo que indica discusiones centradas en la condición económica y los mecanismos de apoyo para los mayores.\n",
    "\n",
    "4. **Tópico 3: “Ruido”**  \n",
    "   Casi todas las entradas son stopwords, lo que sugiere que es un tópico sin contenido temático real. Se opta por descartarlo o re-ajustar el pre-procesamiento para eliminar este ruido.\n"
   ]
  }
 ],
 "metadata": {
  "kernelspec": {
   "display_name": "pln",
   "language": "python",
   "name": "python3"
  },
  "language_info": {
   "codemirror_mode": {
    "name": "ipython",
    "version": 3
   },
   "file_extension": ".py",
   "mimetype": "text/x-python",
   "name": "python",
   "nbconvert_exporter": "python",
   "pygments_lexer": "ipython3",
   "version": "3.11.13"
  }
 },
 "nbformat": 4,
 "nbformat_minor": 5
}
